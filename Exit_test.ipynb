{
  "nbformat": 4,
  "nbformat_minor": 0,
  "metadata": {
    "colab": {
      "provenance": []
    },
    "kernelspec": {
      "name": "python3",
      "display_name": "Python 3"
    },
    "language_info": {
      "name": "python"
    }
  },
  "cells": [
    {
      "cell_type": "code",
      "execution_count": 138,
      "metadata": {
        "id": "_hw5T-vYW_3C"
      },
      "outputs": [],
      "source": [
        "#importing the Libraries\n",
        "import numpy as np\n",
        "import pandas as pd\n",
        "import matplotlib.pyplot as plt\n",
        "import seaborn as sns"
      ]
    },
    {
      "cell_type": "code",
      "source": [
        "#loading the dataset\n",
        "df = pd.read_csv('/content/train (1).csv')\n",
        "df"
      ],
      "metadata": {
        "colab": {
          "base_uri": "https://localhost:8080/",
          "height": 565
        },
        "id": "-G9hxnzTXf79",
        "outputId": "a6d33c59-199f-4f8a-ca28-7bee8ab5035d"
      },
      "execution_count": 139,
      "outputs": [
        {
          "output_type": "execute_result",
          "data": {
            "text/plain": [
              "        player_id                 name  age gender    country height  weight  \\\n",
              "0       PLID_4964           Keva Horan   23      M    Ukraine    6'2  176lbs   \n",
              "1      PLID_11234           Herma Tann   18      M     Russia   5'10  148lbs   \n",
              "2      PLID_19127         Eilene Kizer   16      F      Spain    6'2  172lbs   \n",
              "3      PLID_17467       Andrea Badgett   27      M      Chile   5'11  165lbs   \n",
              "4       PLID_9661  Jeremiah Bumbalough   19      F  Argentina    5'8  158lbs   \n",
              "...           ...                  ...  ...    ...        ...    ...     ...   \n",
              "13989  PLID_10956         Viva Stepney   20      M    Uruguay    6'0  161lbs   \n",
              "13990  PLID_17290           Illa Pitre   18      F    England   5'10  165lbs   \n",
              "13991   PLID_5193    Marylouise Mosley   17      M      Japan    6'0  172lbs   \n",
              "13992  PLID_12173       Teri Escamilla   20      F    Ukraine   5'10  150lbs   \n",
              "13993    PLID_236       Darius Schuman   16      F      Chile    5'8  159lbs   \n",
              "\n",
              "       ball_controlling_skills  body_reflexes  body_balance  ...  strong_foot  \\\n",
              "0                         77.0           58.0          47.0  ...        Right   \n",
              "1                         54.0           69.0          70.0  ...          Any   \n",
              "2                         34.0           43.0          45.0  ...         Left   \n",
              "3                         79.0           73.0          76.0  ...        Right   \n",
              "4                         47.0           61.0          74.0  ...        Right   \n",
              "...                        ...            ...           ...  ...          ...   \n",
              "13989                     60.0           48.0          62.0  ...        Right   \n",
              "13990                     53.0           68.0          59.0  ...        Right   \n",
              "13991                     56.0           73.0          62.0  ...         Left   \n",
              "13992                     71.0           69.0          70.0  ...         Left   \n",
              "13993                     53.0           59.0          67.0  ...        Right   \n",
              "\n",
              "       behaviour_rating  matches_played  fitness_rating  trophies_won  \\\n",
              "0                   7.7             NaN             8.1           2.0   \n",
              "1                   5.3             0.0             NaN           3.0   \n",
              "2                   4.7             0.0             6.6           5.0   \n",
              "3                   8.6           113.0             8.6           6.0   \n",
              "4                   NaN             0.0             5.7           5.0   \n",
              "...                 ...             ...             ...           ...   \n",
              "13989               6.0             NaN             7.6           2.0   \n",
              "13990               5.3             0.0             5.6           3.0   \n",
              "13991               5.7             0.0             7.7           3.0   \n",
              "13992               6.8             1.0             5.8           4.0   \n",
              "13993               4.2             0.0             6.7           0.0   \n",
              "\n",
              "       dedication_level     coaching  years_of_experience  \\\n",
              "0                  High  Talent Hunt                  8.0   \n",
              "1                Medium       Source                  3.0   \n",
              "2                   Low      Academy                  2.0   \n",
              "3                Medium      Academy                 13.0   \n",
              "4                Medium      Academy                  4.0   \n",
              "...                 ...          ...                  ...   \n",
              "13989            Medium      Academy                  6.0   \n",
              "13990            Medium      Academy                  4.0   \n",
              "13991               Low  Talent Hunt                  2.0   \n",
              "13992            Medium      Academy                  6.0   \n",
              "13993            Medium       Source                  1.0   \n",
              "\n",
              "       no_of_disqualifications  selection  \n",
              "0                          0.0          1  \n",
              "1                          0.0          0  \n",
              "2                          0.0          1  \n",
              "3                         16.0          1  \n",
              "4                          0.0          0  \n",
              "...                        ...        ...  \n",
              "13989                      0.0          1  \n",
              "13990                      0.0          0  \n",
              "13991                      0.0          1  \n",
              "13992                      0.0          1  \n",
              "13993                      0.0          0  \n",
              "\n",
              "[13994 rows x 30 columns]"
            ],
            "text/html": [
              "\n",
              "  <div id=\"df-806dc934-1645-4a63-a00e-13e3e60a3683\" class=\"colab-df-container\">\n",
              "    <div>\n",
              "<style scoped>\n",
              "    .dataframe tbody tr th:only-of-type {\n",
              "        vertical-align: middle;\n",
              "    }\n",
              "\n",
              "    .dataframe tbody tr th {\n",
              "        vertical-align: top;\n",
              "    }\n",
              "\n",
              "    .dataframe thead th {\n",
              "        text-align: right;\n",
              "    }\n",
              "</style>\n",
              "<table border=\"1\" class=\"dataframe\">\n",
              "  <thead>\n",
              "    <tr style=\"text-align: right;\">\n",
              "      <th></th>\n",
              "      <th>player_id</th>\n",
              "      <th>name</th>\n",
              "      <th>age</th>\n",
              "      <th>gender</th>\n",
              "      <th>country</th>\n",
              "      <th>height</th>\n",
              "      <th>weight</th>\n",
              "      <th>ball_controlling_skills</th>\n",
              "      <th>body_reflexes</th>\n",
              "      <th>body_balance</th>\n",
              "      <th>...</th>\n",
              "      <th>strong_foot</th>\n",
              "      <th>behaviour_rating</th>\n",
              "      <th>matches_played</th>\n",
              "      <th>fitness_rating</th>\n",
              "      <th>trophies_won</th>\n",
              "      <th>dedication_level</th>\n",
              "      <th>coaching</th>\n",
              "      <th>years_of_experience</th>\n",
              "      <th>no_of_disqualifications</th>\n",
              "      <th>selection</th>\n",
              "    </tr>\n",
              "  </thead>\n",
              "  <tbody>\n",
              "    <tr>\n",
              "      <th>0</th>\n",
              "      <td>PLID_4964</td>\n",
              "      <td>Keva Horan</td>\n",
              "      <td>23</td>\n",
              "      <td>M</td>\n",
              "      <td>Ukraine</td>\n",
              "      <td>6'2</td>\n",
              "      <td>176lbs</td>\n",
              "      <td>77.0</td>\n",
              "      <td>58.0</td>\n",
              "      <td>47.0</td>\n",
              "      <td>...</td>\n",
              "      <td>Right</td>\n",
              "      <td>7.7</td>\n",
              "      <td>NaN</td>\n",
              "      <td>8.1</td>\n",
              "      <td>2.0</td>\n",
              "      <td>High</td>\n",
              "      <td>Talent Hunt</td>\n",
              "      <td>8.0</td>\n",
              "      <td>0.0</td>\n",
              "      <td>1</td>\n",
              "    </tr>\n",
              "    <tr>\n",
              "      <th>1</th>\n",
              "      <td>PLID_11234</td>\n",
              "      <td>Herma Tann</td>\n",
              "      <td>18</td>\n",
              "      <td>M</td>\n",
              "      <td>Russia</td>\n",
              "      <td>5'10</td>\n",
              "      <td>148lbs</td>\n",
              "      <td>54.0</td>\n",
              "      <td>69.0</td>\n",
              "      <td>70.0</td>\n",
              "      <td>...</td>\n",
              "      <td>Any</td>\n",
              "      <td>5.3</td>\n",
              "      <td>0.0</td>\n",
              "      <td>NaN</td>\n",
              "      <td>3.0</td>\n",
              "      <td>Medium</td>\n",
              "      <td>Source</td>\n",
              "      <td>3.0</td>\n",
              "      <td>0.0</td>\n",
              "      <td>0</td>\n",
              "    </tr>\n",
              "    <tr>\n",
              "      <th>2</th>\n",
              "      <td>PLID_19127</td>\n",
              "      <td>Eilene Kizer</td>\n",
              "      <td>16</td>\n",
              "      <td>F</td>\n",
              "      <td>Spain</td>\n",
              "      <td>6'2</td>\n",
              "      <td>172lbs</td>\n",
              "      <td>34.0</td>\n",
              "      <td>43.0</td>\n",
              "      <td>45.0</td>\n",
              "      <td>...</td>\n",
              "      <td>Left</td>\n",
              "      <td>4.7</td>\n",
              "      <td>0.0</td>\n",
              "      <td>6.6</td>\n",
              "      <td>5.0</td>\n",
              "      <td>Low</td>\n",
              "      <td>Academy</td>\n",
              "      <td>2.0</td>\n",
              "      <td>0.0</td>\n",
              "      <td>1</td>\n",
              "    </tr>\n",
              "    <tr>\n",
              "      <th>3</th>\n",
              "      <td>PLID_17467</td>\n",
              "      <td>Andrea Badgett</td>\n",
              "      <td>27</td>\n",
              "      <td>M</td>\n",
              "      <td>Chile</td>\n",
              "      <td>5'11</td>\n",
              "      <td>165lbs</td>\n",
              "      <td>79.0</td>\n",
              "      <td>73.0</td>\n",
              "      <td>76.0</td>\n",
              "      <td>...</td>\n",
              "      <td>Right</td>\n",
              "      <td>8.6</td>\n",
              "      <td>113.0</td>\n",
              "      <td>8.6</td>\n",
              "      <td>6.0</td>\n",
              "      <td>Medium</td>\n",
              "      <td>Academy</td>\n",
              "      <td>13.0</td>\n",
              "      <td>16.0</td>\n",
              "      <td>1</td>\n",
              "    </tr>\n",
              "    <tr>\n",
              "      <th>4</th>\n",
              "      <td>PLID_9661</td>\n",
              "      <td>Jeremiah Bumbalough</td>\n",
              "      <td>19</td>\n",
              "      <td>F</td>\n",
              "      <td>Argentina</td>\n",
              "      <td>5'8</td>\n",
              "      <td>158lbs</td>\n",
              "      <td>47.0</td>\n",
              "      <td>61.0</td>\n",
              "      <td>74.0</td>\n",
              "      <td>...</td>\n",
              "      <td>Right</td>\n",
              "      <td>NaN</td>\n",
              "      <td>0.0</td>\n",
              "      <td>5.7</td>\n",
              "      <td>5.0</td>\n",
              "      <td>Medium</td>\n",
              "      <td>Academy</td>\n",
              "      <td>4.0</td>\n",
              "      <td>0.0</td>\n",
              "      <td>0</td>\n",
              "    </tr>\n",
              "    <tr>\n",
              "      <th>...</th>\n",
              "      <td>...</td>\n",
              "      <td>...</td>\n",
              "      <td>...</td>\n",
              "      <td>...</td>\n",
              "      <td>...</td>\n",
              "      <td>...</td>\n",
              "      <td>...</td>\n",
              "      <td>...</td>\n",
              "      <td>...</td>\n",
              "      <td>...</td>\n",
              "      <td>...</td>\n",
              "      <td>...</td>\n",
              "      <td>...</td>\n",
              "      <td>...</td>\n",
              "      <td>...</td>\n",
              "      <td>...</td>\n",
              "      <td>...</td>\n",
              "      <td>...</td>\n",
              "      <td>...</td>\n",
              "      <td>...</td>\n",
              "      <td>...</td>\n",
              "    </tr>\n",
              "    <tr>\n",
              "      <th>13989</th>\n",
              "      <td>PLID_10956</td>\n",
              "      <td>Viva Stepney</td>\n",
              "      <td>20</td>\n",
              "      <td>M</td>\n",
              "      <td>Uruguay</td>\n",
              "      <td>6'0</td>\n",
              "      <td>161lbs</td>\n",
              "      <td>60.0</td>\n",
              "      <td>48.0</td>\n",
              "      <td>62.0</td>\n",
              "      <td>...</td>\n",
              "      <td>Right</td>\n",
              "      <td>6.0</td>\n",
              "      <td>NaN</td>\n",
              "      <td>7.6</td>\n",
              "      <td>2.0</td>\n",
              "      <td>Medium</td>\n",
              "      <td>Academy</td>\n",
              "      <td>6.0</td>\n",
              "      <td>0.0</td>\n",
              "      <td>1</td>\n",
              "    </tr>\n",
              "    <tr>\n",
              "      <th>13990</th>\n",
              "      <td>PLID_17290</td>\n",
              "      <td>Illa Pitre</td>\n",
              "      <td>18</td>\n",
              "      <td>F</td>\n",
              "      <td>England</td>\n",
              "      <td>5'10</td>\n",
              "      <td>165lbs</td>\n",
              "      <td>53.0</td>\n",
              "      <td>68.0</td>\n",
              "      <td>59.0</td>\n",
              "      <td>...</td>\n",
              "      <td>Right</td>\n",
              "      <td>5.3</td>\n",
              "      <td>0.0</td>\n",
              "      <td>5.6</td>\n",
              "      <td>3.0</td>\n",
              "      <td>Medium</td>\n",
              "      <td>Academy</td>\n",
              "      <td>4.0</td>\n",
              "      <td>0.0</td>\n",
              "      <td>0</td>\n",
              "    </tr>\n",
              "    <tr>\n",
              "      <th>13991</th>\n",
              "      <td>PLID_5193</td>\n",
              "      <td>Marylouise Mosley</td>\n",
              "      <td>17</td>\n",
              "      <td>M</td>\n",
              "      <td>Japan</td>\n",
              "      <td>6'0</td>\n",
              "      <td>172lbs</td>\n",
              "      <td>56.0</td>\n",
              "      <td>73.0</td>\n",
              "      <td>62.0</td>\n",
              "      <td>...</td>\n",
              "      <td>Left</td>\n",
              "      <td>5.7</td>\n",
              "      <td>0.0</td>\n",
              "      <td>7.7</td>\n",
              "      <td>3.0</td>\n",
              "      <td>Low</td>\n",
              "      <td>Talent Hunt</td>\n",
              "      <td>2.0</td>\n",
              "      <td>0.0</td>\n",
              "      <td>1</td>\n",
              "    </tr>\n",
              "    <tr>\n",
              "      <th>13992</th>\n",
              "      <td>PLID_12173</td>\n",
              "      <td>Teri Escamilla</td>\n",
              "      <td>20</td>\n",
              "      <td>F</td>\n",
              "      <td>Ukraine</td>\n",
              "      <td>5'10</td>\n",
              "      <td>150lbs</td>\n",
              "      <td>71.0</td>\n",
              "      <td>69.0</td>\n",
              "      <td>70.0</td>\n",
              "      <td>...</td>\n",
              "      <td>Left</td>\n",
              "      <td>6.8</td>\n",
              "      <td>1.0</td>\n",
              "      <td>5.8</td>\n",
              "      <td>4.0</td>\n",
              "      <td>Medium</td>\n",
              "      <td>Academy</td>\n",
              "      <td>6.0</td>\n",
              "      <td>0.0</td>\n",
              "      <td>1</td>\n",
              "    </tr>\n",
              "    <tr>\n",
              "      <th>13993</th>\n",
              "      <td>PLID_236</td>\n",
              "      <td>Darius Schuman</td>\n",
              "      <td>16</td>\n",
              "      <td>F</td>\n",
              "      <td>Chile</td>\n",
              "      <td>5'8</td>\n",
              "      <td>159lbs</td>\n",
              "      <td>53.0</td>\n",
              "      <td>59.0</td>\n",
              "      <td>67.0</td>\n",
              "      <td>...</td>\n",
              "      <td>Right</td>\n",
              "      <td>4.2</td>\n",
              "      <td>0.0</td>\n",
              "      <td>6.7</td>\n",
              "      <td>0.0</td>\n",
              "      <td>Medium</td>\n",
              "      <td>Source</td>\n",
              "      <td>1.0</td>\n",
              "      <td>0.0</td>\n",
              "      <td>0</td>\n",
              "    </tr>\n",
              "  </tbody>\n",
              "</table>\n",
              "<p>13994 rows × 30 columns</p>\n",
              "</div>\n",
              "    <div class=\"colab-df-buttons\">\n",
              "\n",
              "  <div class=\"colab-df-container\">\n",
              "    <button class=\"colab-df-convert\" onclick=\"convertToInteractive('df-806dc934-1645-4a63-a00e-13e3e60a3683')\"\n",
              "            title=\"Convert this dataframe to an interactive table.\"\n",
              "            style=\"display:none;\">\n",
              "\n",
              "  <svg xmlns=\"http://www.w3.org/2000/svg\" height=\"24px\" viewBox=\"0 -960 960 960\">\n",
              "    <path d=\"M120-120v-720h720v720H120Zm60-500h600v-160H180v160Zm220 220h160v-160H400v160Zm0 220h160v-160H400v160ZM180-400h160v-160H180v160Zm440 0h160v-160H620v160ZM180-180h160v-160H180v160Zm440 0h160v-160H620v160Z\"/>\n",
              "  </svg>\n",
              "    </button>\n",
              "\n",
              "  <style>\n",
              "    .colab-df-container {\n",
              "      display:flex;\n",
              "      gap: 12px;\n",
              "    }\n",
              "\n",
              "    .colab-df-convert {\n",
              "      background-color: #E8F0FE;\n",
              "      border: none;\n",
              "      border-radius: 50%;\n",
              "      cursor: pointer;\n",
              "      display: none;\n",
              "      fill: #1967D2;\n",
              "      height: 32px;\n",
              "      padding: 0 0 0 0;\n",
              "      width: 32px;\n",
              "    }\n",
              "\n",
              "    .colab-df-convert:hover {\n",
              "      background-color: #E2EBFA;\n",
              "      box-shadow: 0px 1px 2px rgba(60, 64, 67, 0.3), 0px 1px 3px 1px rgba(60, 64, 67, 0.15);\n",
              "      fill: #174EA6;\n",
              "    }\n",
              "\n",
              "    .colab-df-buttons div {\n",
              "      margin-bottom: 4px;\n",
              "    }\n",
              "\n",
              "    [theme=dark] .colab-df-convert {\n",
              "      background-color: #3B4455;\n",
              "      fill: #D2E3FC;\n",
              "    }\n",
              "\n",
              "    [theme=dark] .colab-df-convert:hover {\n",
              "      background-color: #434B5C;\n",
              "      box-shadow: 0px 1px 3px 1px rgba(0, 0, 0, 0.15);\n",
              "      filter: drop-shadow(0px 1px 2px rgba(0, 0, 0, 0.3));\n",
              "      fill: #FFFFFF;\n",
              "    }\n",
              "  </style>\n",
              "\n",
              "    <script>\n",
              "      const buttonEl =\n",
              "        document.querySelector('#df-806dc934-1645-4a63-a00e-13e3e60a3683 button.colab-df-convert');\n",
              "      buttonEl.style.display =\n",
              "        google.colab.kernel.accessAllowed ? 'block' : 'none';\n",
              "\n",
              "      async function convertToInteractive(key) {\n",
              "        const element = document.querySelector('#df-806dc934-1645-4a63-a00e-13e3e60a3683');\n",
              "        const dataTable =\n",
              "          await google.colab.kernel.invokeFunction('convertToInteractive',\n",
              "                                                    [key], {});\n",
              "        if (!dataTable) return;\n",
              "\n",
              "        const docLinkHtml = 'Like what you see? Visit the ' +\n",
              "          '<a target=\"_blank\" href=https://colab.research.google.com/notebooks/data_table.ipynb>data table notebook</a>'\n",
              "          + ' to learn more about interactive tables.';\n",
              "        element.innerHTML = '';\n",
              "        dataTable['output_type'] = 'display_data';\n",
              "        await google.colab.output.renderOutput(dataTable, element);\n",
              "        const docLink = document.createElement('div');\n",
              "        docLink.innerHTML = docLinkHtml;\n",
              "        element.appendChild(docLink);\n",
              "      }\n",
              "    </script>\n",
              "  </div>\n",
              "\n",
              "\n",
              "<div id=\"df-a77eb306-ffdd-4e0d-abeb-fde7139bc5d3\">\n",
              "  <button class=\"colab-df-quickchart\" onclick=\"quickchart('df-a77eb306-ffdd-4e0d-abeb-fde7139bc5d3')\"\n",
              "            title=\"Suggest charts.\"\n",
              "            style=\"display:none;\">\n",
              "\n",
              "<svg xmlns=\"http://www.w3.org/2000/svg\" height=\"24px\"viewBox=\"0 0 24 24\"\n",
              "     width=\"24px\">\n",
              "    <g>\n",
              "        <path d=\"M19 3H5c-1.1 0-2 .9-2 2v14c0 1.1.9 2 2 2h14c1.1 0 2-.9 2-2V5c0-1.1-.9-2-2-2zM9 17H7v-7h2v7zm4 0h-2V7h2v10zm4 0h-2v-4h2v4z\"/>\n",
              "    </g>\n",
              "</svg>\n",
              "  </button>\n",
              "\n",
              "<style>\n",
              "  .colab-df-quickchart {\n",
              "    background-color: #E8F0FE;\n",
              "    border: none;\n",
              "    border-radius: 50%;\n",
              "    cursor: pointer;\n",
              "    display: none;\n",
              "    fill: #1967D2;\n",
              "    height: 32px;\n",
              "    padding: 0 0 0 0;\n",
              "    width: 32px;\n",
              "  }\n",
              "\n",
              "  .colab-df-quickchart:hover {\n",
              "    background-color: #E2EBFA;\n",
              "    box-shadow: 0px 1px 2px rgba(60, 64, 67, 0.3), 0px 1px 3px 1px rgba(60, 64, 67, 0.15);\n",
              "    fill: #174EA6;\n",
              "  }\n",
              "\n",
              "  [theme=dark] .colab-df-quickchart {\n",
              "    background-color: #3B4455;\n",
              "    fill: #D2E3FC;\n",
              "  }\n",
              "\n",
              "  [theme=dark] .colab-df-quickchart:hover {\n",
              "    background-color: #434B5C;\n",
              "    box-shadow: 0px 1px 3px 1px rgba(0, 0, 0, 0.15);\n",
              "    filter: drop-shadow(0px 1px 2px rgba(0, 0, 0, 0.3));\n",
              "    fill: #FFFFFF;\n",
              "  }\n",
              "</style>\n",
              "\n",
              "  <script>\n",
              "    async function quickchart(key) {\n",
              "      const charts = await google.colab.kernel.invokeFunction(\n",
              "          'suggestCharts', [key], {});\n",
              "    }\n",
              "    (() => {\n",
              "      let quickchartButtonEl =\n",
              "        document.querySelector('#df-a77eb306-ffdd-4e0d-abeb-fde7139bc5d3 button');\n",
              "      quickchartButtonEl.style.display =\n",
              "        google.colab.kernel.accessAllowed ? 'block' : 'none';\n",
              "    })();\n",
              "  </script>\n",
              "</div>\n",
              "    </div>\n",
              "  </div>\n"
            ]
          },
          "metadata": {},
          "execution_count": 139
        }
      ]
    },
    {
      "cell_type": "code",
      "source": [
        "df.info()"
      ],
      "metadata": {
        "colab": {
          "base_uri": "https://localhost:8080/"
        },
        "id": "DpUdWbtjXp4c",
        "outputId": "e07d0d79-d76f-4fd3-ea37-89620b0b2639"
      },
      "execution_count": 140,
      "outputs": [
        {
          "output_type": "stream",
          "name": "stdout",
          "text": [
            "<class 'pandas.core.frame.DataFrame'>\n",
            "RangeIndex: 13994 entries, 0 to 13993\n",
            "Data columns (total 30 columns):\n",
            " #   Column                     Non-Null Count  Dtype  \n",
            "---  ------                     --------------  -----  \n",
            " 0   player_id                  13994 non-null  object \n",
            " 1   name                       13994 non-null  object \n",
            " 2   age                        13994 non-null  int64  \n",
            " 3   gender                     13975 non-null  object \n",
            " 4   country                    13994 non-null  object \n",
            " 5   height                     13994 non-null  object \n",
            " 6   weight                     13577 non-null  object \n",
            " 7   ball_controlling_skills    13581 non-null  float64\n",
            " 8   body_reflexes              13994 non-null  float64\n",
            " 9   body_balance               13994 non-null  float64\n",
            " 10  jumping_skills             13970 non-null  float64\n",
            " 11  penalties_conversion_rate  13964 non-null  float64\n",
            " 12  mental_strength            13966 non-null  float64\n",
            " 13  goalkeeping_skills         13994 non-null  float64\n",
            " 14  defending_skills           13994 non-null  float64\n",
            " 15  passing_skills             13994 non-null  float64\n",
            " 16  dribbling_skills           13994 non-null  float64\n",
            " 17  shot_accuracy              13422 non-null  float64\n",
            " 18  body_strength_stamina      13994 non-null  float64\n",
            " 19  max_running_speed          13994 non-null  float64\n",
            " 20  strong_foot                13442 non-null  object \n",
            " 21  behaviour_rating           13291 non-null  float64\n",
            " 22  matches_played             13328 non-null  float64\n",
            " 23  fitness_rating             13299 non-null  float64\n",
            " 24  trophies_won               13994 non-null  float64\n",
            " 25  dedication_level           13994 non-null  object \n",
            " 26  coaching                   13869 non-null  object \n",
            " 27  years_of_experience        13850 non-null  float64\n",
            " 28  no_of_disqualifications    13994 non-null  float64\n",
            " 29  selection                  13994 non-null  int64  \n",
            "dtypes: float64(19), int64(2), object(9)\n",
            "memory usage: 3.2+ MB\n"
          ]
        }
      ]
    },
    {
      "cell_type": "code",
      "source": [
        "#checking null values\n",
        "df.isna().sum()"
      ],
      "metadata": {
        "colab": {
          "base_uri": "https://localhost:8080/"
        },
        "id": "f3_RLU9jXshQ",
        "outputId": "e522c5d7-5578-406b-e1fa-08899efb39a9"
      },
      "execution_count": 141,
      "outputs": [
        {
          "output_type": "execute_result",
          "data": {
            "text/plain": [
              "player_id                      0\n",
              "name                           0\n",
              "age                            0\n",
              "gender                        19\n",
              "country                        0\n",
              "height                         0\n",
              "weight                       417\n",
              "ball_controlling_skills      413\n",
              "body_reflexes                  0\n",
              "body_balance                   0\n",
              "jumping_skills                24\n",
              "penalties_conversion_rate     30\n",
              "mental_strength               28\n",
              "goalkeeping_skills             0\n",
              "defending_skills               0\n",
              "passing_skills                 0\n",
              "dribbling_skills               0\n",
              "shot_accuracy                572\n",
              "body_strength_stamina          0\n",
              "max_running_speed              0\n",
              "strong_foot                  552\n",
              "behaviour_rating             703\n",
              "matches_played               666\n",
              "fitness_rating               695\n",
              "trophies_won                   0\n",
              "dedication_level               0\n",
              "coaching                     125\n",
              "years_of_experience          144\n",
              "no_of_disqualifications        0\n",
              "selection                      0\n",
              "dtype: int64"
            ]
          },
          "metadata": {},
          "execution_count": 141
        }
      ]
    },
    {
      "cell_type": "code",
      "source": [
        "#filling the missing values in columns\n",
        "df['gender'] = df['gender'].fillna(df['gender'].mode()[0])"
      ],
      "metadata": {
        "id": "mX6j53aJYZsl"
      },
      "execution_count": 142,
      "outputs": []
    },
    {
      "cell_type": "code",
      "source": [
        "df['weight'] =df['weight'].fillna(df['weight'].mode()[0])"
      ],
      "metadata": {
        "id": "yNafieoYYg40"
      },
      "execution_count": 143,
      "outputs": []
    },
    {
      "cell_type": "code",
      "source": [
        "#removing lbs from weight column to convert dtype to int\n",
        "df['weight'] = df['weight'].str.replace(\"lbs\",\"\")\n",
        "#converting weight to int\n",
        "df['weight']= df['weight'].astype(int)"
      ],
      "metadata": {
        "id": "bBiJhQHDaXmb"
      },
      "execution_count": 144,
      "outputs": []
    },
    {
      "cell_type": "code",
      "source": [
        "#converting inch to cm\n",
        "df['height'] = (df['height'].str.extract(\"(\\d*)'(\\d*)\")\n",
        "                   .apply(pd.to_numeric, errors='coerce') # or .astype(int)\n",
        "                   .mul([30.48, 2.54]).sum(axis=1)\n",
        "                  )\n",
        "df['height']= df['height'].astype(int)"
      ],
      "metadata": {
        "id": "VoYdEhGxcb1b"
      },
      "execution_count": 145,
      "outputs": []
    },
    {
      "cell_type": "code",
      "source": [],
      "metadata": {
        "id": "TQN9FQJGc5CL"
      },
      "execution_count": 145,
      "outputs": []
    },
    {
      "cell_type": "code",
      "source": [
        "df"
      ],
      "metadata": {
        "colab": {
          "base_uri": "https://localhost:8080/",
          "height": 565
        },
        "id": "q5E0w4ffZ_OU",
        "outputId": "a8712c1e-9e5a-40a3-c6fb-5c7d0b987a06"
      },
      "execution_count": 146,
      "outputs": [
        {
          "output_type": "execute_result",
          "data": {
            "text/plain": [
              "        player_id                 name  age gender    country  height  weight  \\\n",
              "0       PLID_4964           Keva Horan   23      M    Ukraine     187     176   \n",
              "1      PLID_11234           Herma Tann   18      M     Russia     177     148   \n",
              "2      PLID_19127         Eilene Kizer   16      F      Spain     187     172   \n",
              "3      PLID_17467       Andrea Badgett   27      M      Chile     180     165   \n",
              "4       PLID_9661  Jeremiah Bumbalough   19      F  Argentina     172     158   \n",
              "...           ...                  ...  ...    ...        ...     ...     ...   \n",
              "13989  PLID_10956         Viva Stepney   20      M    Uruguay     182     161   \n",
              "13990  PLID_17290           Illa Pitre   18      F    England     177     165   \n",
              "13991   PLID_5193    Marylouise Mosley   17      M      Japan     182     172   \n",
              "13992  PLID_12173       Teri Escamilla   20      F    Ukraine     177     150   \n",
              "13993    PLID_236       Darius Schuman   16      F      Chile     172     159   \n",
              "\n",
              "       ball_controlling_skills  body_reflexes  body_balance  ...  strong_foot  \\\n",
              "0                         77.0           58.0          47.0  ...        Right   \n",
              "1                         54.0           69.0          70.0  ...          Any   \n",
              "2                         34.0           43.0          45.0  ...         Left   \n",
              "3                         79.0           73.0          76.0  ...        Right   \n",
              "4                         47.0           61.0          74.0  ...        Right   \n",
              "...                        ...            ...           ...  ...          ...   \n",
              "13989                     60.0           48.0          62.0  ...        Right   \n",
              "13990                     53.0           68.0          59.0  ...        Right   \n",
              "13991                     56.0           73.0          62.0  ...         Left   \n",
              "13992                     71.0           69.0          70.0  ...         Left   \n",
              "13993                     53.0           59.0          67.0  ...        Right   \n",
              "\n",
              "       behaviour_rating  matches_played  fitness_rating  trophies_won  \\\n",
              "0                   7.7             NaN             8.1           2.0   \n",
              "1                   5.3             0.0             NaN           3.0   \n",
              "2                   4.7             0.0             6.6           5.0   \n",
              "3                   8.6           113.0             8.6           6.0   \n",
              "4                   NaN             0.0             5.7           5.0   \n",
              "...                 ...             ...             ...           ...   \n",
              "13989               6.0             NaN             7.6           2.0   \n",
              "13990               5.3             0.0             5.6           3.0   \n",
              "13991               5.7             0.0             7.7           3.0   \n",
              "13992               6.8             1.0             5.8           4.0   \n",
              "13993               4.2             0.0             6.7           0.0   \n",
              "\n",
              "       dedication_level     coaching  years_of_experience  \\\n",
              "0                  High  Talent Hunt                  8.0   \n",
              "1                Medium       Source                  3.0   \n",
              "2                   Low      Academy                  2.0   \n",
              "3                Medium      Academy                 13.0   \n",
              "4                Medium      Academy                  4.0   \n",
              "...                 ...          ...                  ...   \n",
              "13989            Medium      Academy                  6.0   \n",
              "13990            Medium      Academy                  4.0   \n",
              "13991               Low  Talent Hunt                  2.0   \n",
              "13992            Medium      Academy                  6.0   \n",
              "13993            Medium       Source                  1.0   \n",
              "\n",
              "       no_of_disqualifications  selection  \n",
              "0                          0.0          1  \n",
              "1                          0.0          0  \n",
              "2                          0.0          1  \n",
              "3                         16.0          1  \n",
              "4                          0.0          0  \n",
              "...                        ...        ...  \n",
              "13989                      0.0          1  \n",
              "13990                      0.0          0  \n",
              "13991                      0.0          1  \n",
              "13992                      0.0          1  \n",
              "13993                      0.0          0  \n",
              "\n",
              "[13994 rows x 30 columns]"
            ],
            "text/html": [
              "\n",
              "  <div id=\"df-8b4a3ec0-17e7-480c-afc4-683a7523c64f\" class=\"colab-df-container\">\n",
              "    <div>\n",
              "<style scoped>\n",
              "    .dataframe tbody tr th:only-of-type {\n",
              "        vertical-align: middle;\n",
              "    }\n",
              "\n",
              "    .dataframe tbody tr th {\n",
              "        vertical-align: top;\n",
              "    }\n",
              "\n",
              "    .dataframe thead th {\n",
              "        text-align: right;\n",
              "    }\n",
              "</style>\n",
              "<table border=\"1\" class=\"dataframe\">\n",
              "  <thead>\n",
              "    <tr style=\"text-align: right;\">\n",
              "      <th></th>\n",
              "      <th>player_id</th>\n",
              "      <th>name</th>\n",
              "      <th>age</th>\n",
              "      <th>gender</th>\n",
              "      <th>country</th>\n",
              "      <th>height</th>\n",
              "      <th>weight</th>\n",
              "      <th>ball_controlling_skills</th>\n",
              "      <th>body_reflexes</th>\n",
              "      <th>body_balance</th>\n",
              "      <th>...</th>\n",
              "      <th>strong_foot</th>\n",
              "      <th>behaviour_rating</th>\n",
              "      <th>matches_played</th>\n",
              "      <th>fitness_rating</th>\n",
              "      <th>trophies_won</th>\n",
              "      <th>dedication_level</th>\n",
              "      <th>coaching</th>\n",
              "      <th>years_of_experience</th>\n",
              "      <th>no_of_disqualifications</th>\n",
              "      <th>selection</th>\n",
              "    </tr>\n",
              "  </thead>\n",
              "  <tbody>\n",
              "    <tr>\n",
              "      <th>0</th>\n",
              "      <td>PLID_4964</td>\n",
              "      <td>Keva Horan</td>\n",
              "      <td>23</td>\n",
              "      <td>M</td>\n",
              "      <td>Ukraine</td>\n",
              "      <td>187</td>\n",
              "      <td>176</td>\n",
              "      <td>77.0</td>\n",
              "      <td>58.0</td>\n",
              "      <td>47.0</td>\n",
              "      <td>...</td>\n",
              "      <td>Right</td>\n",
              "      <td>7.7</td>\n",
              "      <td>NaN</td>\n",
              "      <td>8.1</td>\n",
              "      <td>2.0</td>\n",
              "      <td>High</td>\n",
              "      <td>Talent Hunt</td>\n",
              "      <td>8.0</td>\n",
              "      <td>0.0</td>\n",
              "      <td>1</td>\n",
              "    </tr>\n",
              "    <tr>\n",
              "      <th>1</th>\n",
              "      <td>PLID_11234</td>\n",
              "      <td>Herma Tann</td>\n",
              "      <td>18</td>\n",
              "      <td>M</td>\n",
              "      <td>Russia</td>\n",
              "      <td>177</td>\n",
              "      <td>148</td>\n",
              "      <td>54.0</td>\n",
              "      <td>69.0</td>\n",
              "      <td>70.0</td>\n",
              "      <td>...</td>\n",
              "      <td>Any</td>\n",
              "      <td>5.3</td>\n",
              "      <td>0.0</td>\n",
              "      <td>NaN</td>\n",
              "      <td>3.0</td>\n",
              "      <td>Medium</td>\n",
              "      <td>Source</td>\n",
              "      <td>3.0</td>\n",
              "      <td>0.0</td>\n",
              "      <td>0</td>\n",
              "    </tr>\n",
              "    <tr>\n",
              "      <th>2</th>\n",
              "      <td>PLID_19127</td>\n",
              "      <td>Eilene Kizer</td>\n",
              "      <td>16</td>\n",
              "      <td>F</td>\n",
              "      <td>Spain</td>\n",
              "      <td>187</td>\n",
              "      <td>172</td>\n",
              "      <td>34.0</td>\n",
              "      <td>43.0</td>\n",
              "      <td>45.0</td>\n",
              "      <td>...</td>\n",
              "      <td>Left</td>\n",
              "      <td>4.7</td>\n",
              "      <td>0.0</td>\n",
              "      <td>6.6</td>\n",
              "      <td>5.0</td>\n",
              "      <td>Low</td>\n",
              "      <td>Academy</td>\n",
              "      <td>2.0</td>\n",
              "      <td>0.0</td>\n",
              "      <td>1</td>\n",
              "    </tr>\n",
              "    <tr>\n",
              "      <th>3</th>\n",
              "      <td>PLID_17467</td>\n",
              "      <td>Andrea Badgett</td>\n",
              "      <td>27</td>\n",
              "      <td>M</td>\n",
              "      <td>Chile</td>\n",
              "      <td>180</td>\n",
              "      <td>165</td>\n",
              "      <td>79.0</td>\n",
              "      <td>73.0</td>\n",
              "      <td>76.0</td>\n",
              "      <td>...</td>\n",
              "      <td>Right</td>\n",
              "      <td>8.6</td>\n",
              "      <td>113.0</td>\n",
              "      <td>8.6</td>\n",
              "      <td>6.0</td>\n",
              "      <td>Medium</td>\n",
              "      <td>Academy</td>\n",
              "      <td>13.0</td>\n",
              "      <td>16.0</td>\n",
              "      <td>1</td>\n",
              "    </tr>\n",
              "    <tr>\n",
              "      <th>4</th>\n",
              "      <td>PLID_9661</td>\n",
              "      <td>Jeremiah Bumbalough</td>\n",
              "      <td>19</td>\n",
              "      <td>F</td>\n",
              "      <td>Argentina</td>\n",
              "      <td>172</td>\n",
              "      <td>158</td>\n",
              "      <td>47.0</td>\n",
              "      <td>61.0</td>\n",
              "      <td>74.0</td>\n",
              "      <td>...</td>\n",
              "      <td>Right</td>\n",
              "      <td>NaN</td>\n",
              "      <td>0.0</td>\n",
              "      <td>5.7</td>\n",
              "      <td>5.0</td>\n",
              "      <td>Medium</td>\n",
              "      <td>Academy</td>\n",
              "      <td>4.0</td>\n",
              "      <td>0.0</td>\n",
              "      <td>0</td>\n",
              "    </tr>\n",
              "    <tr>\n",
              "      <th>...</th>\n",
              "      <td>...</td>\n",
              "      <td>...</td>\n",
              "      <td>...</td>\n",
              "      <td>...</td>\n",
              "      <td>...</td>\n",
              "      <td>...</td>\n",
              "      <td>...</td>\n",
              "      <td>...</td>\n",
              "      <td>...</td>\n",
              "      <td>...</td>\n",
              "      <td>...</td>\n",
              "      <td>...</td>\n",
              "      <td>...</td>\n",
              "      <td>...</td>\n",
              "      <td>...</td>\n",
              "      <td>...</td>\n",
              "      <td>...</td>\n",
              "      <td>...</td>\n",
              "      <td>...</td>\n",
              "      <td>...</td>\n",
              "      <td>...</td>\n",
              "    </tr>\n",
              "    <tr>\n",
              "      <th>13989</th>\n",
              "      <td>PLID_10956</td>\n",
              "      <td>Viva Stepney</td>\n",
              "      <td>20</td>\n",
              "      <td>M</td>\n",
              "      <td>Uruguay</td>\n",
              "      <td>182</td>\n",
              "      <td>161</td>\n",
              "      <td>60.0</td>\n",
              "      <td>48.0</td>\n",
              "      <td>62.0</td>\n",
              "      <td>...</td>\n",
              "      <td>Right</td>\n",
              "      <td>6.0</td>\n",
              "      <td>NaN</td>\n",
              "      <td>7.6</td>\n",
              "      <td>2.0</td>\n",
              "      <td>Medium</td>\n",
              "      <td>Academy</td>\n",
              "      <td>6.0</td>\n",
              "      <td>0.0</td>\n",
              "      <td>1</td>\n",
              "    </tr>\n",
              "    <tr>\n",
              "      <th>13990</th>\n",
              "      <td>PLID_17290</td>\n",
              "      <td>Illa Pitre</td>\n",
              "      <td>18</td>\n",
              "      <td>F</td>\n",
              "      <td>England</td>\n",
              "      <td>177</td>\n",
              "      <td>165</td>\n",
              "      <td>53.0</td>\n",
              "      <td>68.0</td>\n",
              "      <td>59.0</td>\n",
              "      <td>...</td>\n",
              "      <td>Right</td>\n",
              "      <td>5.3</td>\n",
              "      <td>0.0</td>\n",
              "      <td>5.6</td>\n",
              "      <td>3.0</td>\n",
              "      <td>Medium</td>\n",
              "      <td>Academy</td>\n",
              "      <td>4.0</td>\n",
              "      <td>0.0</td>\n",
              "      <td>0</td>\n",
              "    </tr>\n",
              "    <tr>\n",
              "      <th>13991</th>\n",
              "      <td>PLID_5193</td>\n",
              "      <td>Marylouise Mosley</td>\n",
              "      <td>17</td>\n",
              "      <td>M</td>\n",
              "      <td>Japan</td>\n",
              "      <td>182</td>\n",
              "      <td>172</td>\n",
              "      <td>56.0</td>\n",
              "      <td>73.0</td>\n",
              "      <td>62.0</td>\n",
              "      <td>...</td>\n",
              "      <td>Left</td>\n",
              "      <td>5.7</td>\n",
              "      <td>0.0</td>\n",
              "      <td>7.7</td>\n",
              "      <td>3.0</td>\n",
              "      <td>Low</td>\n",
              "      <td>Talent Hunt</td>\n",
              "      <td>2.0</td>\n",
              "      <td>0.0</td>\n",
              "      <td>1</td>\n",
              "    </tr>\n",
              "    <tr>\n",
              "      <th>13992</th>\n",
              "      <td>PLID_12173</td>\n",
              "      <td>Teri Escamilla</td>\n",
              "      <td>20</td>\n",
              "      <td>F</td>\n",
              "      <td>Ukraine</td>\n",
              "      <td>177</td>\n",
              "      <td>150</td>\n",
              "      <td>71.0</td>\n",
              "      <td>69.0</td>\n",
              "      <td>70.0</td>\n",
              "      <td>...</td>\n",
              "      <td>Left</td>\n",
              "      <td>6.8</td>\n",
              "      <td>1.0</td>\n",
              "      <td>5.8</td>\n",
              "      <td>4.0</td>\n",
              "      <td>Medium</td>\n",
              "      <td>Academy</td>\n",
              "      <td>6.0</td>\n",
              "      <td>0.0</td>\n",
              "      <td>1</td>\n",
              "    </tr>\n",
              "    <tr>\n",
              "      <th>13993</th>\n",
              "      <td>PLID_236</td>\n",
              "      <td>Darius Schuman</td>\n",
              "      <td>16</td>\n",
              "      <td>F</td>\n",
              "      <td>Chile</td>\n",
              "      <td>172</td>\n",
              "      <td>159</td>\n",
              "      <td>53.0</td>\n",
              "      <td>59.0</td>\n",
              "      <td>67.0</td>\n",
              "      <td>...</td>\n",
              "      <td>Right</td>\n",
              "      <td>4.2</td>\n",
              "      <td>0.0</td>\n",
              "      <td>6.7</td>\n",
              "      <td>0.0</td>\n",
              "      <td>Medium</td>\n",
              "      <td>Source</td>\n",
              "      <td>1.0</td>\n",
              "      <td>0.0</td>\n",
              "      <td>0</td>\n",
              "    </tr>\n",
              "  </tbody>\n",
              "</table>\n",
              "<p>13994 rows × 30 columns</p>\n",
              "</div>\n",
              "    <div class=\"colab-df-buttons\">\n",
              "\n",
              "  <div class=\"colab-df-container\">\n",
              "    <button class=\"colab-df-convert\" onclick=\"convertToInteractive('df-8b4a3ec0-17e7-480c-afc4-683a7523c64f')\"\n",
              "            title=\"Convert this dataframe to an interactive table.\"\n",
              "            style=\"display:none;\">\n",
              "\n",
              "  <svg xmlns=\"http://www.w3.org/2000/svg\" height=\"24px\" viewBox=\"0 -960 960 960\">\n",
              "    <path d=\"M120-120v-720h720v720H120Zm60-500h600v-160H180v160Zm220 220h160v-160H400v160Zm0 220h160v-160H400v160ZM180-400h160v-160H180v160Zm440 0h160v-160H620v160ZM180-180h160v-160H180v160Zm440 0h160v-160H620v160Z\"/>\n",
              "  </svg>\n",
              "    </button>\n",
              "\n",
              "  <style>\n",
              "    .colab-df-container {\n",
              "      display:flex;\n",
              "      gap: 12px;\n",
              "    }\n",
              "\n",
              "    .colab-df-convert {\n",
              "      background-color: #E8F0FE;\n",
              "      border: none;\n",
              "      border-radius: 50%;\n",
              "      cursor: pointer;\n",
              "      display: none;\n",
              "      fill: #1967D2;\n",
              "      height: 32px;\n",
              "      padding: 0 0 0 0;\n",
              "      width: 32px;\n",
              "    }\n",
              "\n",
              "    .colab-df-convert:hover {\n",
              "      background-color: #E2EBFA;\n",
              "      box-shadow: 0px 1px 2px rgba(60, 64, 67, 0.3), 0px 1px 3px 1px rgba(60, 64, 67, 0.15);\n",
              "      fill: #174EA6;\n",
              "    }\n",
              "\n",
              "    .colab-df-buttons div {\n",
              "      margin-bottom: 4px;\n",
              "    }\n",
              "\n",
              "    [theme=dark] .colab-df-convert {\n",
              "      background-color: #3B4455;\n",
              "      fill: #D2E3FC;\n",
              "    }\n",
              "\n",
              "    [theme=dark] .colab-df-convert:hover {\n",
              "      background-color: #434B5C;\n",
              "      box-shadow: 0px 1px 3px 1px rgba(0, 0, 0, 0.15);\n",
              "      filter: drop-shadow(0px 1px 2px rgba(0, 0, 0, 0.3));\n",
              "      fill: #FFFFFF;\n",
              "    }\n",
              "  </style>\n",
              "\n",
              "    <script>\n",
              "      const buttonEl =\n",
              "        document.querySelector('#df-8b4a3ec0-17e7-480c-afc4-683a7523c64f button.colab-df-convert');\n",
              "      buttonEl.style.display =\n",
              "        google.colab.kernel.accessAllowed ? 'block' : 'none';\n",
              "\n",
              "      async function convertToInteractive(key) {\n",
              "        const element = document.querySelector('#df-8b4a3ec0-17e7-480c-afc4-683a7523c64f');\n",
              "        const dataTable =\n",
              "          await google.colab.kernel.invokeFunction('convertToInteractive',\n",
              "                                                    [key], {});\n",
              "        if (!dataTable) return;\n",
              "\n",
              "        const docLinkHtml = 'Like what you see? Visit the ' +\n",
              "          '<a target=\"_blank\" href=https://colab.research.google.com/notebooks/data_table.ipynb>data table notebook</a>'\n",
              "          + ' to learn more about interactive tables.';\n",
              "        element.innerHTML = '';\n",
              "        dataTable['output_type'] = 'display_data';\n",
              "        await google.colab.output.renderOutput(dataTable, element);\n",
              "        const docLink = document.createElement('div');\n",
              "        docLink.innerHTML = docLinkHtml;\n",
              "        element.appendChild(docLink);\n",
              "      }\n",
              "    </script>\n",
              "  </div>\n",
              "\n",
              "\n",
              "<div id=\"df-21981a6f-1fe3-45cc-9a9f-d3c39f37bd8c\">\n",
              "  <button class=\"colab-df-quickchart\" onclick=\"quickchart('df-21981a6f-1fe3-45cc-9a9f-d3c39f37bd8c')\"\n",
              "            title=\"Suggest charts.\"\n",
              "            style=\"display:none;\">\n",
              "\n",
              "<svg xmlns=\"http://www.w3.org/2000/svg\" height=\"24px\"viewBox=\"0 0 24 24\"\n",
              "     width=\"24px\">\n",
              "    <g>\n",
              "        <path d=\"M19 3H5c-1.1 0-2 .9-2 2v14c0 1.1.9 2 2 2h14c1.1 0 2-.9 2-2V5c0-1.1-.9-2-2-2zM9 17H7v-7h2v7zm4 0h-2V7h2v10zm4 0h-2v-4h2v4z\"/>\n",
              "    </g>\n",
              "</svg>\n",
              "  </button>\n",
              "\n",
              "<style>\n",
              "  .colab-df-quickchart {\n",
              "    background-color: #E8F0FE;\n",
              "    border: none;\n",
              "    border-radius: 50%;\n",
              "    cursor: pointer;\n",
              "    display: none;\n",
              "    fill: #1967D2;\n",
              "    height: 32px;\n",
              "    padding: 0 0 0 0;\n",
              "    width: 32px;\n",
              "  }\n",
              "\n",
              "  .colab-df-quickchart:hover {\n",
              "    background-color: #E2EBFA;\n",
              "    box-shadow: 0px 1px 2px rgba(60, 64, 67, 0.3), 0px 1px 3px 1px rgba(60, 64, 67, 0.15);\n",
              "    fill: #174EA6;\n",
              "  }\n",
              "\n",
              "  [theme=dark] .colab-df-quickchart {\n",
              "    background-color: #3B4455;\n",
              "    fill: #D2E3FC;\n",
              "  }\n",
              "\n",
              "  [theme=dark] .colab-df-quickchart:hover {\n",
              "    background-color: #434B5C;\n",
              "    box-shadow: 0px 1px 3px 1px rgba(0, 0, 0, 0.15);\n",
              "    filter: drop-shadow(0px 1px 2px rgba(0, 0, 0, 0.3));\n",
              "    fill: #FFFFFF;\n",
              "  }\n",
              "</style>\n",
              "\n",
              "  <script>\n",
              "    async function quickchart(key) {\n",
              "      const charts = await google.colab.kernel.invokeFunction(\n",
              "          'suggestCharts', [key], {});\n",
              "    }\n",
              "    (() => {\n",
              "      let quickchartButtonEl =\n",
              "        document.querySelector('#df-21981a6f-1fe3-45cc-9a9f-d3c39f37bd8c button');\n",
              "      quickchartButtonEl.style.display =\n",
              "        google.colab.kernel.accessAllowed ? 'block' : 'none';\n",
              "    })();\n",
              "  </script>\n",
              "</div>\n",
              "    </div>\n",
              "  </div>\n"
            ]
          },
          "metadata": {},
          "execution_count": 146
        }
      ]
    },
    {
      "cell_type": "code",
      "source": [
        "cols = ['penalties_conversion_rate','mental_strength','ball_controlling_skills',\n",
        "        'jumping_skills','behaviour_rating','matches_played','fitness_rating',\n",
        "        'years_of_experience','shot_accuracy']\n",
        "for col in cols:\n",
        "  df[col] = df[col].fillna(df[col].median())"
      ],
      "metadata": {
        "id": "VfQRqTEidheL"
      },
      "execution_count": 147,
      "outputs": []
    },
    {
      "cell_type": "code",
      "source": [
        "mod_cols = ['strong_foot','coaching']\n",
        "for col in mod_cols:\n",
        "  df[col] = df[col].fillna(df[col].mode()[0])"
      ],
      "metadata": {
        "id": "n4PzHmYhdhbj"
      },
      "execution_count": 148,
      "outputs": []
    },
    {
      "cell_type": "code",
      "source": [
        "df.info()"
      ],
      "metadata": {
        "colab": {
          "base_uri": "https://localhost:8080/"
        },
        "id": "Meod_wVxgFKS",
        "outputId": "f40295ae-6354-4bd5-dee8-232242b22ecc"
      },
      "execution_count": 149,
      "outputs": [
        {
          "output_type": "stream",
          "name": "stdout",
          "text": [
            "<class 'pandas.core.frame.DataFrame'>\n",
            "RangeIndex: 13994 entries, 0 to 13993\n",
            "Data columns (total 30 columns):\n",
            " #   Column                     Non-Null Count  Dtype  \n",
            "---  ------                     --------------  -----  \n",
            " 0   player_id                  13994 non-null  object \n",
            " 1   name                       13994 non-null  object \n",
            " 2   age                        13994 non-null  int64  \n",
            " 3   gender                     13994 non-null  object \n",
            " 4   country                    13994 non-null  object \n",
            " 5   height                     13994 non-null  int64  \n",
            " 6   weight                     13994 non-null  int64  \n",
            " 7   ball_controlling_skills    13994 non-null  float64\n",
            " 8   body_reflexes              13994 non-null  float64\n",
            " 9   body_balance               13994 non-null  float64\n",
            " 10  jumping_skills             13994 non-null  float64\n",
            " 11  penalties_conversion_rate  13994 non-null  float64\n",
            " 12  mental_strength            13994 non-null  float64\n",
            " 13  goalkeeping_skills         13994 non-null  float64\n",
            " 14  defending_skills           13994 non-null  float64\n",
            " 15  passing_skills             13994 non-null  float64\n",
            " 16  dribbling_skills           13994 non-null  float64\n",
            " 17  shot_accuracy              13994 non-null  float64\n",
            " 18  body_strength_stamina      13994 non-null  float64\n",
            " 19  max_running_speed          13994 non-null  float64\n",
            " 20  strong_foot                13994 non-null  object \n",
            " 21  behaviour_rating           13994 non-null  float64\n",
            " 22  matches_played             13994 non-null  float64\n",
            " 23  fitness_rating             13994 non-null  float64\n",
            " 24  trophies_won               13994 non-null  float64\n",
            " 25  dedication_level           13994 non-null  object \n",
            " 26  coaching                   13994 non-null  object \n",
            " 27  years_of_experience        13994 non-null  float64\n",
            " 28  no_of_disqualifications    13994 non-null  float64\n",
            " 29  selection                  13994 non-null  int64  \n",
            "dtypes: float64(19), int64(4), object(7)\n",
            "memory usage: 3.2+ MB\n"
          ]
        }
      ]
    },
    {
      "cell_type": "code",
      "source": [
        "#plotting the total count of selection based on EXperience\n",
        "df['years_of_experience'].value_counts().head().plot.bar()\n",
        "plt.xlabel('Years of EXP')\n",
        "plt.title('Bar Graph')\n",
        "plt.ylabel('Total Selection')"
      ],
      "metadata": {
        "colab": {
          "base_uri": "https://localhost:8080/",
          "height": 497
        },
        "id": "eSBiAVashWPg",
        "outputId": "93c904d1-9067-491d-892f-f9133ee1bbdd"
      },
      "execution_count": 150,
      "outputs": [
        {
          "output_type": "execute_result",
          "data": {
            "text/plain": [
              "Text(0, 0.5, 'Total Selection')"
            ]
          },
          "metadata": {},
          "execution_count": 150
        },
        {
          "output_type": "display_data",
          "data": {
            "text/plain": [
              "<Figure size 640x480 with 1 Axes>"
            ],
            "image/png": "[encoded data removed]"
          },
          "metadata": {}
        }
      ]
    },
    {
      "cell_type": "code",
      "source": [
        "#percentage of selection based on Gender\n",
        "df['gender'].value_counts().plot.pie(autopct=\"%1.1f%%\")\n",
        "plt.title('Pie Chart')"
      ],
      "metadata": {
        "colab": {
          "base_uri": "https://localhost:8080/",
          "height": 445
        },
        "id": "iSKJRn6LiV8g",
        "outputId": "da2284fa-1e01-46bd-adb0-95483fa1d690"
      },
      "execution_count": 151,
      "outputs": [
        {
          "output_type": "execute_result",
          "data": {
            "text/plain": [
              "Text(0.5, 1.0, 'Pie Chart')"
            ]
          },
          "metadata": {},
          "execution_count": 151
        },
        {
          "output_type": "display_data",
          "data": {
            "text/plain": [
              "<Figure size 640x480 with 1 Axes>"
            ],
            "image/png": "[encoded data removed]"
          },
          "metadata": {}
        }
      ]
    },
    {
      "cell_type": "markdown",
      "source": [
        "From the pie chart we can conclude that equal oppurtunities are being given for slection based on gender"
      ],
      "metadata": {
        "id": "y0M_ib0G2LLh"
      }
    },
    {
      "cell_type": "code",
      "source": [
        "sns.scatterplot(x='height', y='weight',data=df, marker='o', color='g', alpha=0.7)"
      ],
      "metadata": {
        "colab": {
          "base_uri": "https://localhost:8080/",
          "height": 466
        },
        "id": "GjHv29pYm9Jw",
        "outputId": "07761ba6-b01f-428e-f9bc-910c0bc00c05"
      },
      "execution_count": 152,
      "outputs": [
        {
          "output_type": "execute_result",
          "data": {
            "text/plain": [
              "<Axes: xlabel='height', ylabel='weight'>"
            ]
          },
          "metadata": {},
          "execution_count": 152
        },
        {
          "output_type": "display_data",
          "data": {
            "text/plain": [
              "<Figure size 640x480 with 1 Axes>"
            ],
            "image/png": "[encoded data removed]"
          },
          "metadata": {}
        }
      ]
    },
    {
      "cell_type": "markdown",
      "source": [
        "majority of height for the participants are same but weight varies"
      ],
      "metadata": {
        "id": "WyECBDBW_wnm"
      }
    },
    {
      "cell_type": "code",
      "source": [
        "#dropping the columns that are not related to target column\n",
        "df.drop(['player_id','name'],axis=1,inplace =True)"
      ],
      "metadata": {
        "id": "pqMRqEqfjh4J"
      },
      "execution_count": 153,
      "outputs": []
    },
    {
      "cell_type": "code",
      "source": [
        "#encoding the categorical columns using get_dummies\n",
        "cols = df[['gender','strong_foot','dedication_level','coaching']]\n",
        "dm = pd.get_dummies(cols)"
      ],
      "metadata": {
        "id": "8usiWvzHj3p4"
      },
      "execution_count": 154,
      "outputs": []
    },
    {
      "cell_type": "code",
      "source": [
        "#dropping the columns and joing the enoceded data to main dataset\n",
        "df.drop(['gender','strong_foot','dedication_level','coaching'],axis =1,inplace =True)"
      ],
      "metadata": {
        "id": "6uuJbHvL_0iK"
      },
      "execution_count": 155,
      "outputs": []
    },
    {
      "cell_type": "code",
      "source": [
        "df = df.join(dm)"
      ],
      "metadata": {
        "id": "XSbZjgH-Bd5a"
      },
      "execution_count": 156,
      "outputs": []
    },
    {
      "cell_type": "code",
      "source": [
        "#importing Labelecnoder and Minmaxscaler\n",
        "from sklearn.preprocessing import LabelEncoder,MinMaxScaler\n",
        "#creating Instances\n",
        "le = LabelEncoder()\n",
        "scaler = MinMaxScaler()"
      ],
      "metadata": {
        "id": "rg-5IrOwnOEu"
      },
      "execution_count": 157,
      "outputs": []
    },
    {
      "cell_type": "code",
      "source": [
        "#labelencoding the country\n",
        "df['country'] = le.fit_transform(df['country'])"
      ],
      "metadata": {
        "id": "PoctR3ZanXDH"
      },
      "execution_count": 158,
      "outputs": []
    },
    {
      "cell_type": "code",
      "source": [
        "#applying minmax scaler to all numerical columns\n",
        "num_cols = ['age','height','weight','ball_controlling_skills','body_reflexes',\n",
        "            'body_balance','jumping_skills','penalties_conversion_rate','mental_strength','goalkeeping_skills',\n",
        "            'defending_skills', 'passing_skills', 'dribbling_skills','shot_accuracy', 'body_strength_stamina',\n",
        "            'max_running_speed','behaviour_rating', 'matches_played', 'fitness_rating','trophies_won',\n",
        "             'years_of_experience', 'no_of_disqualifications']\n",
        "for c in num_cols:\n",
        "  df[c] = scaler.fit_transform(df[c].values.reshape(-1,1))"
      ],
      "metadata": {
        "id": "O7inv5Mmn39f"
      },
      "execution_count": 163,
      "outputs": []
    },
    {
      "cell_type": "code",
      "source": [
        "#splitting the dataset to dependent and independent variables\n",
        "x = df.drop(['selection'],axis = 1)\n",
        "y= df['selection']"
      ],
      "metadata": {
        "id": "PlWmnlYTvcTL"
      },
      "execution_count": 166,
      "outputs": []
    },
    {
      "cell_type": "code",
      "source": [
        "#using the Traintestsplit to split train set and test set\n",
        "from sklearn.model_selection import train_test_split\n",
        "x_train, x_test,y_train, y_test = train_test_split(x,y ,\n",
        "                                   random_state=42,\n",
        "                                   test_size=0.25)"
      ],
      "metadata": {
        "id": "O3fW9nDAv50M"
      },
      "execution_count": 171,
      "outputs": []
    },
    {
      "cell_type": "code",
      "source": [
        "#Importing Logistic Regression and Random Forest classifier\n",
        "from sklearn.linear_model import LogisticRegression\n",
        "from sklearn.ensemble import RandomForestClassifier\n",
        "lr = LogisticRegression()\n",
        "rf = RandomForestClassifier()"
      ],
      "metadata": {
        "id": "tlVU8Vbxwsfy"
      },
      "execution_count": 175,
      "outputs": []
    },
    {
      "cell_type": "code",
      "source": [
        "from sklearn.metrics import accuracy_score"
      ],
      "metadata": {
        "id": "RJKX0c70wlq0"
      },
      "execution_count": 179,
      "outputs": []
    },
    {
      "cell_type": "code",
      "source": [
        "#training the model\n",
        "lr.fit(x_train,y_train)\n",
        "rf.fit(x_train,y_train)"
      ],
      "metadata": {
        "id": "OXTiIyLOxuc6"
      },
      "execution_count": null,
      "outputs": []
    },
    {
      "cell_type": "code",
      "source": [
        "#predictions from the trained model\n",
        "lr_pred = lr.predict(x_test)\n",
        "rf_pred = rf.predict(x_test)"
      ],
      "metadata": {
        "id": "a3pEuvtox9Ry"
      },
      "execution_count": 178,
      "outputs": []
    },
    {
      "cell_type": "code",
      "source": [
        "#percentage accuracy in prediction for the models\n",
        "print(\"Logistic Regression model accuracy:\", accuracy_score(y_test,lr_pred)*100)\n",
        "print(\"Random Forest model accuracy:\", accuracy_score(y_test,rf_pred)*100)"
      ],
      "metadata": {
        "colab": {
          "base_uri": "https://localhost:8080/"
        },
        "id": "3A1J_zSJyJuV",
        "outputId": "fc6babf6-e7f2-4217-ef9b-dec8135c3e08"
      },
      "execution_count": 184,
      "outputs": [
        {
          "output_type": "stream",
          "name": "stdout",
          "text": [
            "Logistic Regression model accuracy: 76.90768791083167\n",
            "Random Forest model accuracy: 84.79565590168619\n"
          ]
        }
      ]
    },
    {
      "cell_type": "code",
      "source": [
        "#hyperparameters for logistic regression\n",
        "dual=[True,False]\n",
        "max_iter=[100,110,120,130,140]\n",
        "C = [1.0,1.5,2.0,2.5]\n",
        "param_grid = dict(dual=dual,max_iter=max_iter,C=C)"
      ],
      "metadata": {
        "id": "H2ryC72Wxuaj"
      },
      "execution_count": 185,
      "outputs": []
    },
    {
      "cell_type": "code",
      "source": [
        "#importing Gridsearchcv for hyperparameter tuning\n",
        "from sklearn.model_selection import GridSearchCV\n",
        "grid = GridSearchCV(estimator=lr, param_grid=param_grid, cv = 3, n_jobs=-1)\n"
      ],
      "metadata": {
        "id": "5uvAADepy9a8"
      },
      "execution_count": 186,
      "outputs": []
    },
    {
      "cell_type": "code",
      "source": [
        "lr_new = grid.fit(x_train,y_train)"
      ],
      "metadata": {
        "id": "bjqhYCo-zBvC"
      },
      "execution_count": null,
      "outputs": []
    },
    {
      "cell_type": "code",
      "source": [
        "#Accuracy score after hyperparamater tuning\n",
        "lr_new.best_score_"
      ],
      "metadata": {
        "colab": {
          "base_uri": "https://localhost:8080/"
        },
        "id": "DW0IEj6kzYjZ",
        "outputId": "e2a8fc7a-48e2-4aaf-f7eb-267187a4f628"
      },
      "execution_count": 190,
      "outputs": [
        {
          "output_type": "execute_result",
          "data": {
            "text/plain": [
              "0.7695088683619099"
            ]
          },
          "metadata": {},
          "execution_count": 190
        }
      ]
    },
    {
      "cell_type": "code",
      "source": [
        "#Bets Hyperparamter values for the Logistic Regression\n",
        "lr_new.best_params_"
      ],
      "metadata": {
        "colab": {
          "base_uri": "https://localhost:8080/"
        },
        "id": "_gynKgIuzSyI",
        "outputId": "80a02d4d-d103-4163-a5bf-f0a4602a6191"
      },
      "execution_count": 189,
      "outputs": [
        {
          "output_type": "execute_result",
          "data": {
            "text/plain": [
              "{'C': 2.5, 'dual': False, 'max_iter': 140}"
            ]
          },
          "metadata": {},
          "execution_count": 189
        }
      ]
    },
    {
      "cell_type": "code",
      "source": [
        "#Hyperparameters for Randomforest classifier\n",
        "param_grids = {\n",
        "'bootstrap': [True],\n",
        "'max_depth': [80, 90, 100, 110],\n",
        "'max_features': [2, 3],\n",
        "'min_samples_leaf': [3, 4, 5],\n",
        "'min_samples_split': [8, 10, 12],\n",
        "'n_estimators': [100, 200, 300, 1000]}\n"
      ],
      "metadata": {
        "id": "pDYhZOQl0-VS"
      },
      "execution_count": 199,
      "outputs": []
    },
    {
      "cell_type": "code",
      "source": [
        "#Using RandomizedSearchCV for obtaining best Hyperparameters\n",
        "from sklearn.model_selection import RandomizedSearchCV\n",
        "rf_new = RandomizedSearchCV(estimator = rf, param_distributions = param_grids, n_iter = 100, cv = 3, verbose=2, random_state=42, n_jobs = -1)\n",
        "#Hyperparameter tuning of Randomforest classifier by fitting the train data\n",
        "rf_new.fit(x_train,y_train)\n"
      ],
      "metadata": {
        "colab": {
          "base_uri": "https://localhost:8080/",
          "height": 134
        },
        "id": "4loRjhXo1E8j",
        "outputId": "03ee8bdb-2a90-4e7f-b1fa-4a26312eb011"
      },
      "execution_count": 201,
      "outputs": [
        {
          "output_type": "stream",
          "name": "stdout",
          "text": [
            "Fitting 3 folds for each of 100 candidates, totalling 300 fits\n"
          ]
        },
        {
          "output_type": "execute_result",
          "data": {
            "text/plain": [
              "RandomizedSearchCV(cv=3, estimator=RandomForestClassifier(), n_iter=100,\n",
              "                   n_jobs=-1,\n",
              "                   param_distributions={'bootstrap': [True],\n",
              "                                        'max_depth': [80, 90, 100, 110],\n",
              "                                        'max_features': [2, 3],\n",
              "                                        'min_samples_leaf': [3, 4, 5],\n",
              "                                        'min_samples_split': [8, 10, 12],\n",
              "                                        'n_estimators': [100, 200, 300, 1000]},\n",
              "                   random_state=42, verbose=2)"
            ],
            "text/html": [
              "<style>#sk-container-id-4 {color: black;background-color: white;}#sk-container-id-4 pre{padding: 0;}#sk-container-id-4 div.sk-toggleable {background-color: white;}#sk-container-id-4 label.sk-toggleable__label {cursor: pointer;display: block;width: 100%;margin-bottom: 0;padding: 0.3em;box-sizing: border-box;text-align: center;}#sk-container-id-4 label.sk-toggleable__label-arrow:before {content: \"▸\";float: left;margin-right: 0.25em;color: #696969;}#sk-container-id-4 label.sk-toggleable__label-arrow:hover:before {color: black;}#sk-container-id-4 div.sk-estimator:hover label.sk-toggleable__label-arrow:before {color: black;}#sk-container-id-4 div.sk-toggleable__content {max-height: 0;max-width: 0;overflow: hidden;text-align: left;background-color: #f0f8ff;}#sk-container-id-4 div.sk-toggleable__content pre {margin: 0.2em;color: black;border-radius: 0.25em;background-color: #f0f8ff;}#sk-container-id-4 input.sk-toggleable__control:checked~div.sk-toggleable__content {max-height: 200px;max-width: 100%;overflow: auto;}#sk-container-id-4 input.sk-toggleable__control:checked~label.sk-toggleable__label-arrow:before {content: \"▾\";}#sk-container-id-4 div.sk-estimator input.sk-toggleable__control:checked~label.sk-toggleable__label {background-color: #d4ebff;}#sk-container-id-4 div.sk-label input.sk-toggleable__control:checked~label.sk-toggleable__label {background-color: #d4ebff;}#sk-container-id-4 input.sk-hidden--visually {border: 0;clip: rect(1px 1px 1px 1px);clip: rect(1px, 1px, 1px, 1px);height: 1px;margin: -1px;overflow: hidden;padding: 0;position: absolute;width: 1px;}#sk-container-id-4 div.sk-estimator {font-family: monospace;background-color: #f0f8ff;border: 1px dotted black;border-radius: 0.25em;box-sizing: border-box;margin-bottom: 0.5em;}#sk-container-id-4 div.sk-estimator:hover {background-color: #d4ebff;}#sk-container-id-4 div.sk-parallel-item::after {content: \"\";width: 100%;border-bottom: 1px solid gray;flex-grow: 1;}#sk-container-id-4 div.sk-label:hover label.sk-toggleable__label {background-color: #d4ebff;}#sk-container-id-4 div.sk-serial::before {content: \"\";position: absolute;border-left: 1px solid gray;box-sizing: border-box;top: 0;bottom: 0;left: 50%;z-index: 0;}#sk-container-id-4 div.sk-serial {display: flex;flex-direction: column;align-items: center;background-color: white;padding-right: 0.2em;padding-left: 0.2em;position: relative;}#sk-container-id-4 div.sk-item {position: relative;z-index: 1;}#sk-container-id-4 div.sk-parallel {display: flex;align-items: stretch;justify-content: center;background-color: white;position: relative;}#sk-container-id-4 div.sk-item::before, #sk-container-id-4 div.sk-parallel-item::before {content: \"\";position: absolute;border-left: 1px solid gray;box-sizing: border-box;top: 0;bottom: 0;left: 50%;z-index: -1;}#sk-container-id-4 div.sk-parallel-item {display: flex;flex-direction: column;z-index: 1;position: relative;background-color: white;}#sk-container-id-4 div.sk-parallel-item:first-child::after {align-self: flex-end;width: 50%;}#sk-container-id-4 div.sk-parallel-item:last-child::after {align-self: flex-start;width: 50%;}#sk-container-id-4 div.sk-parallel-item:only-child::after {width: 0;}#sk-container-id-4 div.sk-dashed-wrapped {border: 1px dashed gray;margin: 0 0.4em 0.5em 0.4em;box-sizing: border-box;padding-bottom: 0.4em;background-color: white;}#sk-container-id-4 div.sk-label label {font-family: monospace;font-weight: bold;display: inline-block;line-height: 1.2em;}#sk-container-id-4 div.sk-label-container {text-align: center;}#sk-container-id-4 div.sk-container {/* jupyter's `normalize.less` sets `[hidden] { display: none; }` but bootstrap.min.css set `[hidden] { display: none !important; }` so we also need the `!important` here to be able to override the default hidden behavior on the sphinx rendered scikit-learn.org. See: https://github.com/scikit-learn/scikit-learn/issues/21755 */display: inline-block !important;position: relative;}#sk-container-id-4 div.sk-text-repr-fallback {display: none;}</style><div id=\"sk-container-id-4\" class=\"sk-top-container\"><div class=\"sk-text-repr-fallback\"><pre>RandomizedSearchCV(cv=3, estimator=RandomForestClassifier(), n_iter=100,\n",
              "                   n_jobs=-1,\n",
              "                   param_distributions={&#x27;bootstrap&#x27;: [True],\n",
              "                                        &#x27;max_depth&#x27;: [80, 90, 100, 110],\n",
              "                                        &#x27;max_features&#x27;: [2, 3],\n",
              "                                        &#x27;min_samples_leaf&#x27;: [3, 4, 5],\n",
              "                                        &#x27;min_samples_split&#x27;: [8, 10, 12],\n",
              "                                        &#x27;n_estimators&#x27;: [100, 200, 300, 1000]},\n",
              "                   random_state=42, verbose=2)</pre><b>In a Jupyter environment, please rerun this cell to show the HTML representation or trust the notebook. <br />On GitHub, the HTML representation is unable to render, please try loading this page with nbviewer.org.</b></div><div class=\"sk-container\" hidden><div class=\"sk-item sk-dashed-wrapped\"><div class=\"sk-label-container\"><div class=\"sk-label sk-toggleable\"><input class=\"sk-toggleable__control sk-hidden--visually\" id=\"sk-estimator-id-6\" type=\"checkbox\" ><label for=\"sk-estimator-id-6\" class=\"sk-toggleable__label sk-toggleable__label-arrow\">RandomizedSearchCV</label><div class=\"sk-toggleable__content\"><pre>RandomizedSearchCV(cv=3, estimator=RandomForestClassifier(), n_iter=100,\n",
              "                   n_jobs=-1,\n",
              "                   param_distributions={&#x27;bootstrap&#x27;: [True],\n",
              "                                        &#x27;max_depth&#x27;: [80, 90, 100, 110],\n",
              "                                        &#x27;max_features&#x27;: [2, 3],\n",
              "                                        &#x27;min_samples_leaf&#x27;: [3, 4, 5],\n",
              "                                        &#x27;min_samples_split&#x27;: [8, 10, 12],\n",
              "                                        &#x27;n_estimators&#x27;: [100, 200, 300, 1000]},\n",
              "                   random_state=42, verbose=2)</pre></div></div></div><div class=\"sk-parallel\"><div class=\"sk-parallel-item\"><div class=\"sk-item\"><div class=\"sk-label-container\"><div class=\"sk-label sk-toggleable\"><input class=\"sk-toggleable__control sk-hidden--visually\" id=\"sk-estimator-id-7\" type=\"checkbox\" ><label for=\"sk-estimator-id-7\" class=\"sk-toggleable__label sk-toggleable__label-arrow\">estimator: RandomForestClassifier</label><div class=\"sk-toggleable__content\"><pre>RandomForestClassifier()</pre></div></div></div><div class=\"sk-serial\"><div class=\"sk-item\"><div class=\"sk-estimator sk-toggleable\"><input class=\"sk-toggleable__control sk-hidden--visually\" id=\"sk-estimator-id-8\" type=\"checkbox\" ><label for=\"sk-estimator-id-8\" class=\"sk-toggleable__label sk-toggleable__label-arrow\">RandomForestClassifier</label><div class=\"sk-toggleable__content\"><pre>RandomForestClassifier()</pre></div></div></div></div></div></div></div></div></div></div>"
            ]
          },
          "metadata": {},
          "execution_count": 201
        }
      ]
    },
    {
      "cell_type": "code",
      "source": [
        "#showing the best Parameters\n",
        "rf_new.best_params_"
      ],
      "metadata": {
        "colab": {
          "base_uri": "https://localhost:8080/"
        },
        "id": "0PBai3Ow3dlJ",
        "outputId": "dde0b620-a58d-4d4b-b070-af8f8838b74c"
      },
      "execution_count": 202,
      "outputs": [
        {
          "output_type": "execute_result",
          "data": {
            "text/plain": [
              "{'n_estimators': 1000,\n",
              " 'min_samples_split': 8,\n",
              " 'min_samples_leaf': 3,\n",
              " 'max_features': 3,\n",
              " 'max_depth': 90,\n",
              " 'bootstrap': True}"
            ]
          },
          "metadata": {},
          "execution_count": 202
        }
      ]
    },
    {
      "cell_type": "code",
      "source": [
        "#best score after hyperparameter tuning\n",
        "rf_new.best_score_"
      ],
      "metadata": {
        "colab": {
          "base_uri": "https://localhost:8080/"
        },
        "id": "gElPAypG5L84",
        "outputId": "084c0894-0a38-4f4b-be53-11d4fe3bd7a3"
      },
      "execution_count": 203,
      "outputs": [
        {
          "output_type": "execute_result",
          "data": {
            "text/plain": [
              "0.8449738123876828"
            ]
          },
          "metadata": {},
          "execution_count": 203
        }
      ]
    },
    {
      "cell_type": "code",
      "source": [
        "#Updating the best hyperparameters to the model\n",
        "rf_bst = RandomForestClassifier(n_estimators= 1000,\n",
        " min_samples_split= 8,\n",
        " min_samples_leaf= 3,\n",
        " max_features= 3,\n",
        " max_depth= 90,\n",
        " bootstrap = True)"
      ],
      "metadata": {
        "id": "ZyKB9NzA58HX"
      },
      "execution_count": 204,
      "outputs": []
    },
    {
      "cell_type": "code",
      "source": [
        "#Training the bestmodel\n",
        "Rf_bst = rf_bst.fit(x_train,y_train)"
      ],
      "metadata": {
        "id": "e7qktbMW6v6Q"
      },
      "execution_count": 207,
      "outputs": []
    },
    {
      "cell_type": "code",
      "source": [
        "#predicting the rsults\n",
        "Rf_pred = Rf_bst.predict(x_test)\n",
        "print(\"Random Forest model accuracy:\", accuracy_score(y_test,Rf_pred)*100)"
      ],
      "metadata": {
        "colab": {
          "base_uri": "https://localhost:8080/"
        },
        "id": "EGIyz3K36_3Z",
        "outputId": "b263515c-786d-46fc-91c3-95da5105451a"
      },
      "execution_count": 209,
      "outputs": [
        {
          "output_type": "stream",
          "name": "stdout",
          "text": [
            "Random Forest model accuracy: 85.05287224921406\n"
          ]
        }
      ]
    },
    {
      "cell_type": "markdown",
      "source": [
        "After hyperparameter tuning Accuracy score has slightly increased."
      ],
      "metadata": {
        "id": "O8ARORr0AAil"
      }
    },
    {
      "cell_type": "code",
      "source": [
        "from sklearn.metrics import classification_report\n",
        "print(classification_report(Rf_pred, y_test))"
      ],
      "metadata": {
        "colab": {
          "base_uri": "https://localhost:8080/"
        },
        "id": "dgLvr-Br8P5S",
        "outputId": "2a55d6fd-d875-441c-8250-5ddec0e79d9c"
      },
      "execution_count": 210,
      "outputs": [
        {
          "output_type": "stream",
          "name": "stdout",
          "text": [
            "              precision    recall  f1-score   support\n",
            "\n",
            "           0       0.82      0.85      0.83      1554\n",
            "           1       0.88      0.85      0.86      1945\n",
            "\n",
            "    accuracy                           0.85      3499\n",
            "   macro avg       0.85      0.85      0.85      3499\n",
            "weighted avg       0.85      0.85      0.85      3499\n",
            "\n"
          ]
        }
      ]
    }
  ]
}